{
  "nbformat": 4,
  "nbformat_minor": 0,
  "metadata": {
    "colab": {
      "provenance": []
    },
    "kernelspec": {
      "name": "python3",
      "display_name": "Python 3"
    },
    "language_info": {
      "name": "python"
    }
  },
  "cells": [
    {
      "cell_type": "markdown",
      "source": [
        "# Answer 13"
      ],
      "metadata": {
        "id": "o1R-eO-q7X40"
      }
    },
    {
      "cell_type": "code",
      "execution_count": 8,
      "metadata": {
        "colab": {
          "base_uri": "https://localhost:8080/"
        },
        "id": "TPunsumVoARg",
        "outputId": "7a171466-a47b-4754-c51f-76d27f24cdbe"
      },
      "outputs": [
        {
          "output_type": "stream",
          "name": "stdout",
          "text": [
            "53 98 17 86 67 58 50 27 50 72 \n",
            "Argmin using np.argmin is  2\n",
            "Argmin using argminfunc is  2\n"
          ]
        }
      ],
      "source": [
        "import numpy as np\n",
        "import random\n",
        "li = []\n",
        "for i in range(10):\n",
        "    li.append(random.randint(1,100))\n",
        "    print(li[i],end=\" \")\n",
        "print()\n",
        " \n",
        "def argminfunc(li):\n",
        "    minimum = li[0]\n",
        "    ans = 0\n",
        "    for i in range(len(li)):\n",
        "        if li[i]<minimum:\n",
        "            minimum=li[i]\n",
        "            ans=i\n",
        "    return ans\n",
        " \n",
        "npli = np.array(li)\n",
        "argmin = npli.argmin()\n",
        "print(\"Argmin using np.argmin is \", argmin)\n",
        "print(\"Argmin using argminfunc is \", argminfunc(li))"
      ]
    },
    {
      "cell_type": "markdown",
      "source": [
        "# Answer 6"
      ],
      "metadata": {
        "id": "6MPHvSDQ7aK5"
      }
    },
    {
      "cell_type": "code",
      "source": [
        "import sympy as sp\n",
        "from sympy import *\n",
        "import math\n",
        "\n",
        "x, y = symbols('x, y')\n",
        "f = (x**2)*y + (y**3)*(sp.sin(x))\n",
        "Df = Matrix([f]).jacobian(Matrix(list(f.free_symbols)))\n",
        "print(\"Derivative with respect to x is: \",Df[0])\n",
        "print(\"Derivative with respect to y is: \",Df[1])"
      ],
      "metadata": {
        "colab": {
          "base_uri": "https://localhost:8080/"
        },
        "id": "OgGdAk_jrAdv",
        "outputId": "f26ae153-3825-4730-ed37-33cf41591b0a"
      },
      "execution_count": 25,
      "outputs": [
        {
          "output_type": "stream",
          "name": "stdout",
          "text": [
            "Derivative with respect to x is:  2*x*y + y**3*cos(x)\n",
            "Derivative with respect to y is:  x**2 + 3*y**2*sin(x)\n"
          ]
        }
      ]
    },
    {
      "cell_type": "markdown",
      "source": [
        "#Answer 2"
      ],
      "metadata": {
        "id": "i3rvE9XD6bDI"
      }
    },
    {
      "cell_type": "code",
      "source": [
        "import time\n",
        "import random\n",
        "start = time.time()\n",
        "import numpy as np\n",
        "n=random.randint(1,1000)\n",
        "k=random.randint(1,1000)\n",
        "m=random.randint(1,1000)\n",
        "mat_1 = np.random.randint(10, size=(n,k))\n",
        "mat_2 = np.random.randint(10, size=(k,m))\n",
        "\n",
        "result = np.dot(mat_1,mat_2)\n",
        "end = time.time()\n",
        "t1=end-start\n",
        "print(\"Time for In-built function\",t1)\n",
        "print()\n",
        "print(\"Using np.dot\",result)\n",
        "print()\n",
        "start = time.time()\n",
        "for i in range(len(result)):\n",
        "  for j in range(len(result[0])):\n",
        "    result[i][j] = 0\n",
        "\n",
        "for i in range(n):\n",
        "    for j in range(m):\n",
        "        for l in range(k):\n",
        "            result[i][j] += mat_1[i][l]*mat_2[l][j]\n",
        "end=time.time()\n",
        "t2=end-start\n",
        "print(\"Time for naive matrix multiplication\",t2)\n",
        "print(\"Simple multiplication\",result)\n",
        "print()\n",
        "\n",
        "print(\"In-built method is approximately\",int(t2/t1),\"times faster than naive method where dimensions of matrices are\",n,\"x\",k,\"and\",k,\"x\",m)    \n",
        "        \n",
        "    \n",
        "\n",
        "    \n"
      ],
      "metadata": {
        "colab": {
          "base_uri": "https://localhost:8080/"
        },
        "id": "yzozw6yQJQOS",
        "outputId": "23bc7175-34ea-4ed0-b740-a9b87f652e38"
      },
      "execution_count": 24,
      "outputs": [
        {
          "output_type": "stream",
          "name": "stdout",
          "text": [
            "Time for In-built function 0.45697498321533203\n",
            "\n",
            "Using np.dot [[7382 6704 6692 ... 6781 6722 6958]\n",
            " [7224 6932 6829 ... 7284 7096 6572]\n",
            " [7512 7066 7183 ... 7266 7337 6946]\n",
            " ...\n",
            " [6955 6588 6746 ... 6760 7049 6344]\n",
            " [7769 7507 7167 ... 7194 7376 7099]\n",
            " [7611 7182 7291 ... 7169 7302 6970]]\n",
            "\n",
            "Time for naive matrix multiplication 275.82686018943787\n",
            "Simple multiplication [[7382 6704 6692 ... 6781 6722 6958]\n",
            " [7224 6932 6829 ... 7284 7096 6572]\n",
            " [7512 7066 7183 ... 7266 7337 6946]\n",
            " ...\n",
            " [6955 6588 6746 ... 6760 7049 6344]\n",
            " [7769 7507 7167 ... 7194 7376 7099]\n",
            " [7611 7182 7291 ... 7169 7302 6970]]\n",
            "\n",
            "In-built method is approximately 603 times faster than naive method where dimensions of matrices are 859 x 354 and 354 x 799\n"
          ]
        }
      ]
    },
    {
      "cell_type": "markdown",
      "source": [
        "# Answer 12"
      ],
      "metadata": {
        "id": "cIduVFAZ6XLl"
      }
    },
    {
      "cell_type": "code",
      "source": [
        "import random\n",
        "import numpy as np\n",
        "n=random.randint(1,5)\n",
        "k=random.randint(1,5)\n",
        "mat_1 = np.random.randint(10, size=(n,k))\n",
        "mat_2 = np.random.randint(10, size=(n,1))\n",
        "print(\"Matrix 1\",mat_1)\n",
        "print(\"Matrix 2\",mat_2)\n",
        "result = (mat_1 * mat_2)\n",
        "print(\"Result is: \",result)"
      ],
      "metadata": {
        "colab": {
          "base_uri": "https://localhost:8080/"
        },
        "id": "KGZ4ngFiJDjX",
        "outputId": "a7d331d7-bc8d-4152-f5ef-f729724fe6c5"
      },
      "execution_count": 14,
      "outputs": [
        {
          "output_type": "stream",
          "name": "stdout",
          "text": [
            "Matrix 1 [[9 5 5 5]\n",
            " [8 2 1 0]\n",
            " [4 6 8 8]\n",
            " [8 4 1 0]\n",
            " [6 7 5 3]]\n",
            "Matrix 2 [[2]\n",
            " [3]\n",
            " [0]\n",
            " [5]\n",
            " [8]]\n",
            "Result is:  [[18 10 10 10]\n",
            " [24  6  3  0]\n",
            " [ 0  0  0  0]\n",
            " [40 20  5  0]\n",
            " [48 56 40 24]]\n"
          ]
        }
      ]
    },
    {
      "cell_type": "markdown",
      "source": [
        "# Answer 3"
      ],
      "metadata": {
        "id": "8j8T5MLD6ToF"
      }
    },
    {
      "cell_type": "code",
      "source": [
        "li = []\n",
        "n = random.randint(1,5)\n",
        "n = 3\n",
        "for i in range(n):\n",
        "  li.append(random.randint(1,10000))\n",
        "print(li)\n",
        "\n",
        "temp = li.copy()\n",
        "print(\"Median is: \",end=\"\")\n",
        "if (n%2 != 0):\n",
        "    ans = 0\n",
        "    for i in range(int((n+1)/2)):\n",
        "        ans = max(temp)\n",
        "        temp.remove(ans)\n",
        "    print(ans)\n",
        "    \n",
        "else:\n",
        "    median1 = 0\n",
        "    median2 = 0\n",
        "    ans = 0\n",
        "    for i in range(int(n/2)+1):\n",
        "        if(i == 0):\n",
        "            median1 = max(temp)\n",
        "            median2 = max(temp)\n",
        "        else:\n",
        "            median1 = median2\n",
        "            median2 = max(temp)\n",
        "        temp.remove(median2)\n",
        "    ans = (median1 + median2)/2\n",
        "    print(ans)\n",
        "\n",
        "\n"
      ],
      "metadata": {
        "colab": {
          "base_uri": "https://localhost:8080/"
        },
        "id": "FJehHlNWWNWv",
        "outputId": "cc43c0fc-fdfd-45d8-9bc4-a3df4cfe529a"
      },
      "execution_count": 19,
      "outputs": [
        {
          "output_type": "stream",
          "name": "stdout",
          "text": [
            "[3190, 2013, 8622]\n",
            "Median is: 3190\n"
          ]
        }
      ]
    },
    {
      "cell_type": "markdown",
      "source": [
        "# Answer 7"
      ],
      "metadata": {
        "id": "vPJ_6gKy6OYO"
      }
    },
    {
      "cell_type": "code",
      "source": [
        "import random\n",
        "import string\n",
        "df = {}\n",
        "\n",
        "def func_add_data():\n",
        "    year = random.randint(2016,2026)\n",
        "    branches = [\"CSE\",\"EE\",\"ME\",\"CL\",\"CE\",\"MSE\"]\n",
        "    branch = random.sample(branches)\n",
        "    roll = random.randint(1,1000)\n",
        "    letters = string.ascii_lowercase\n",
        "    name = ''.join(random.choice(letters) for i in range(random.randint(4,12)))\n",
        "    num_sub = random.randint(1,100)\n",
        "    \n",
        "    if year in df:\n",
        "        if branch in df[year]:\n",
        "            df[year][branch][roll] = {\n",
        "                name:{\n",
        "                    \"Marks\":{\n",
        "\n",
        "                    }\n",
        "                }\n",
        "            }\n",
        "        else:\n",
        "            (df[year]).update({branch:{\n",
        "                roll:{\n",
        "                    name:{\n",
        "                        \"Marks\":{\n",
        "                            \n",
        "                        }\n",
        "                    }\n",
        "                }\n",
        "            }})\n",
        "    else:\n",
        "        df.update({year:{\n",
        "            branch:{\n",
        "                roll:{\n",
        "                    name:{\n",
        "                        \"Marks\":{\n",
        "                        }\n",
        "                    }\n",
        "                }\n",
        "            }\n",
        "        }})\n",
        "    for i in range(num_sub):\n",
        "        x, y = input().split()\n",
        "        y = int(y)\n",
        "        (df[year][branch][roll][name][\"Marks\"]).update({x:y})"
      ],
      "metadata": {
        "id": "aSvJr9e8ZGn6"
      },
      "execution_count": 18,
      "outputs": []
    },
    {
      "cell_type": "markdown",
      "source": [
        "# Answer 10 and 11"
      ],
      "metadata": {
        "id": "_HXNn5iv6LB-"
      }
    },
    {
      "cell_type": "code",
      "source": [
        "import pandas as pd\n",
        "from numpy import random\n",
        "entry = random.uniform(1,2 , size=(20,5))\n",
        "\n",
        "\n",
        "col = ['a','b','c','d','e']\n",
        "\n",
        "df = pd.DataFrame(data = entry, columns = col)\n",
        "print(df)\n",
        "print()\n",
        "standard_deviation = df.std()\n",
        "maxm_std = max(standard_deviation)\n",
        "print(\"Column with max standard deviation is: \",col[np.argmax(maxm_std)])\n",
        "print()\n",
        "print(\"standard deviation is: \",maxm_std)\n",
        "print()\n",
        "\n",
        "\n",
        "mean_row = df.mean(axis=1)\n",
        "maxm_mean = min(mean_row)\n",
        "row_num = np.argmax(mean_row)\n",
        "print(\"Row with minimum mean is\",row_num+1,\"and the mean is \", maxm_mean)\n",
        "print()\n",
        "data = []\n",
        "data2 = []\n",
        "for i in range(20):\n",
        "  sum = df['a'][i] + df['b'][i] + df['c'][i] + df['d'][i] + df['e'][i]\n",
        "  data.append(sum)\n",
        "  if sum<8:\n",
        "    data2.append(\"LT8\")\n",
        "  else:\n",
        "    data2.append(\"GT8\")\n",
        "df['f'] = data\n",
        "df['g'] = data2\n",
        "print()\n",
        "print(\"Number of rows with LT8\",len(df.loc[df['g'] == \"LT8\"]))\n",
        "print()\n",
        "dftemp = df.loc[df['g'] == \"LT8\"]\n",
        "standard_deviation = dftemp.std()\n",
        "print(\"Standard deviation of column f with LT8\", standard_deviation[5])\n",
        "print()\n",
        "dftemp = df.loc[df['g'] == \"GT8\"]\n",
        "standard_deviation = dftemp.std()\n",
        "print(\"Standard deviation of column f with GT8\", standard_deviation[5])\n",
        "\n"
      ],
      "metadata": {
        "colab": {
          "base_uri": "https://localhost:8080/"
        },
        "id": "j3nnxR3wdrTG",
        "outputId": "d0f0dafb-e3ef-4856-a703-4baec2be3317"
      },
      "execution_count": 16,
      "outputs": [
        {
          "output_type": "stream",
          "name": "stdout",
          "text": [
            "           a         b         c         d         e\n",
            "0   1.254280  1.882460  1.497712  1.083424  1.527137\n",
            "1   1.550177  1.604588  1.028191  1.544295  1.385190\n",
            "2   1.060862  1.383769  1.949683  1.369687  1.834484\n",
            "3   1.119694  1.544652  1.846998  1.513147  1.572787\n",
            "4   1.990923  1.690648  1.045804  1.002794  1.587857\n",
            "5   1.820217  1.932625  1.523640  1.840611  1.008806\n",
            "6   1.689316  1.186410  1.730369  1.286717  1.513055\n",
            "7   1.370073  1.514770  1.125320  1.797064  1.667789\n",
            "8   1.274866  1.999874  1.228256  1.722870  1.407666\n",
            "9   1.981770  1.921221  1.807837  1.674431  1.121587\n",
            "10  1.941620  1.046104  1.379250  1.237466  1.034202\n",
            "11  1.804138  1.508959  1.917815  1.552163  1.379400\n",
            "12  1.553432  1.927307  1.773222  1.109952  1.490339\n",
            "13  1.221316  1.304610  1.371731  1.212326  1.851898\n",
            "14  1.919671  1.131777  1.798490  1.416257  1.491172\n",
            "15  1.005164  1.490053  1.762127  1.284754  1.588355\n",
            "16  1.603250  1.295154  1.778048  1.382515  1.187364\n",
            "17  1.112893  1.711447  1.736346  1.803303  1.527027\n",
            "18  1.358248  1.451521  1.110990  1.336973  1.995123\n",
            "19  1.097047  1.252440  1.813039  1.055593  1.884718\n",
            "\n",
            "Column with max standard deviation is:  a\n",
            "\n",
            "standard deviation is:  0.34087834565956404\n",
            "\n",
            "Row with minimum mean is 10 and the mean is  1.327728320909046\n",
            "\n",
            "\n",
            "Number of rows with LT8 17\n",
            "\n",
            "Standard deviation of column f with LT8 0.33403194717334417\n",
            "\n",
            "Standard deviation of column f with GT8 0.21017855104102726\n"
          ]
        },
        {
          "output_type": "stream",
          "name": "stderr",
          "text": [
            "<ipython-input-16-100bc039b814>:39: FutureWarning: Dropping of nuisance columns in DataFrame reductions (with 'numeric_only=None') is deprecated; in a future version this will raise TypeError.  Select only valid columns before calling the reduction.\n",
            "  standard_deviation = dftemp.std()\n",
            "<ipython-input-16-100bc039b814>:43: FutureWarning: Dropping of nuisance columns in DataFrame reductions (with 'numeric_only=None') is deprecated; in a future version this will raise TypeError.  Select only valid columns before calling the reduction.\n",
            "  standard_deviation = dftemp.std()\n"
          ]
        }
      ]
    },
    {
      "cell_type": "markdown",
      "source": [
        "# Answer 1\n",
        "There will be total $n*m$ terms in the result matrix. For computing each term we do $k$ multiplications (common side) and $k-1$ additions(for adding all these multiplications). So the complexity is $n*m*k$ for multiplication and $n*m*(k-1)$ for additions.\n"
      ],
      "metadata": {
        "id": "IU0i_qsS5r18"
      }
    },
    {
      "cell_type": "markdown",
      "source": [
        "# Answer 4\n",
        "The Gradient of the function $x^2$y + $y^3$$sinx$ is [2xy + $y^3$$cosx$ , $x^2$ + 3$y^2$$sinx$]\n"
      ],
      "metadata": {
        "id": "4lNvQN_Ou1bi"
      }
    },
    {
      "cell_type": "markdown",
      "source": [
        "#Answer 5"
      ],
      "metadata": {
        "id": "GFZWisHUH6zm"
      }
    },
    {
      "cell_type": "code",
      "source": [
        "import jax.numpy as npj\n",
        "def f_x(x,y):\n",
        "  return 2*x*y+(y**3)*(npj.cos(x))\n",
        "def f_y(x,y):\n",
        "  return x**2+npj.sin(x)*3*y*2  \n",
        "def f(x,y):\n",
        "  return ((x**2)*y)+((y**3)*(npj.sin(x)))\n",
        "  \n",
        "dif_x=jax.grad(f,0)\n",
        "x=random.random()\n",
        "y=random.random() \n",
        "dif_y=jax.grad(f,1)\n",
        "print(\"gradient wrt x from JAX is\", dif_x(x,y),\"Analytical gradient is\",f_x(x,y)) \n",
        "print(\"gradient wrt y from JAX is\", dif_x(x,y),\"Analytical gradient is\",f_y(x,y)) "
      ],
      "metadata": {
        "colab": {
          "base_uri": "https://localhost:8080/"
        },
        "id": "zFGyGhvaHwFo",
        "outputId": "c74995a9-b93c-4af5-9ead-effd048557f5"
      },
      "execution_count": 44,
      "outputs": [
        {
          "output_type": "stream",
          "name": "stdout",
          "text": [
            "gradient wrt x from JAX is 0.0021934677 Analytical gradient is 0.0021934677\n",
            "gradient wrt y from JAX is 0.0021934677 Analytical gradient is 0.010900222\n"
          ]
        }
      ]
    },
    {
      "cell_type": "markdown",
      "source": [
        "# Answer 9"
      ],
      "metadata": {
        "id": "WrkRVIjw6DYu"
      }
    },
    {
      "cell_type": "code",
      "source": [
        "import matplotlib.pyplot as plt\n",
        "import numpy as np\n",
        "\n",
        "x = np.linspace(0.5, 100.0, 200) \n",
        "y = [x,x ** 2,(x ** 3)/100,np.sin(x),(np.sin(x))/x,np.log(x),np.exp(x)]\n",
        "\n",
        "for i in range(len(y)):\n",
        "  plt.plot(x,y[i])\n",
        "  plt.plot(\"Graph\")\n",
        "  plt.xlabel(\"X values\")\n",
        "  plt.ylabel(\"Y values\")\n",
        "  plt.grid(True)\n",
        "  plt.show()\n",
        "\n"
      ],
      "metadata": {
        "colab": {
          "base_uri": "https://localhost:8080/",
          "height": 1000
        },
        "id": "Z9ffVzrewNI5",
        "outputId": "711392ba-a2be-4ff7-ac90-8cbeaf73f47c"
      },
      "execution_count": 17,
      "outputs": [
        {
          "output_type": "display_data",
          "data": {
            "text/plain": [
              "<Figure size 432x288 with 1 Axes>"
            ],
            "image/png": "[encoded data removed]"
          },
          "metadata": {
            "needs_background": "light"
          }
        },
        {
          "output_type": "display_data",
          "data": {
            "text/plain": [
              "<Figure size 432x288 with 1 Axes>"
            ],
            "image/png": "[encoded data removed]"
          },
          "metadata": {
            "needs_background": "light"
          }
        },
        {
          "output_type": "display_data",
          "data": {
            "text/plain": [
              "<Figure size 432x288 with 1 Axes>"
            ],
            "image/png": "[encoded data removed]"
          },
          "metadata": {
            "needs_background": "light"
          }
        },
        {
          "output_type": "display_data",
          "data": {
            "text/plain": [
              "<Figure size 432x288 with 1 Axes>"
            ],
            "image/png": "[encoded data removed]"
          },
          "metadata": {
            "needs_background": "light"
          }
        },
        {
          "output_type": "display_data",
          "data": {
            "text/plain": [
              "<Figure size 432x288 with 1 Axes>"
            ],
            "image/png": "[encoded data removed]"
          },
          "metadata": {
            "needs_background": "light"
          }
        },
        {
          "output_type": "display_data",
          "data": {
            "text/plain": [
              "<Figure size 432x288 with 1 Axes>"
            ],
            "image/png": "[encoded data removed]"
          },
          "metadata": {
            "needs_background": "light"
          }
        },
        {
          "output_type": "display_data",
          "data": {
            "text/plain": [
              "<Figure size 432x288 with 1 Axes>"
            ],
            "image/png": "[encoded data removed]"
          },
          "metadata": {
            "needs_background": "light"
          }
        }
      ]
    },
    {
      "cell_type": "code",
      "source": [],
      "metadata": {
        "id": "A1-Oa0obxL6a"
      },
      "execution_count": null,
      "outputs": []
    }
  ]
}